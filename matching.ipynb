{
 "cells": [
  {
   "cell_type": "code",
   "execution_count": 38,
   "metadata": {},
   "outputs": [],
   "source": [
    "import cv2\n",
    "import fingerprint_enhancer\n",
    "import fingerprint_feature_extractor\n",
    "import numpy as np\n",
    "from projectname.matching1 import extract_angle, extract_tuple_profile, generate_tuple_profile, match_tuples, match\n",
    "import json"
   ]
  },
  {
   "cell_type": "code",
   "execution_count": 39,
   "metadata": {},
   "outputs": [],
   "source": [
    "f = open('projectname/data.json')"
   ]
  },
  {
   "cell_type": "code",
   "execution_count": 40,
   "metadata": {},
   "outputs": [],
   "source": [
    "data = json.load(f)"
   ]
  },
  {
   "cell_type": "code",
   "execution_count": 41,
   "metadata": {},
   "outputs": [
    {
     "data": {
      "text/plain": [
       "100"
      ]
     },
     "execution_count": 41,
     "metadata": {},
     "output_type": "execute_result"
    }
   ],
   "source": [
    "len(data)"
   ]
  },
  {
   "attachments": {},
   "cell_type": "markdown",
   "metadata": {},
   "source": []
  },
  {
   "cell_type": "code",
   "execution_count": 42,
   "metadata": {},
   "outputs": [],
   "source": [
    "# path = 'data_test_unrename/110_2_DB4_B_2002.tif'\n",
    "# img_test = cv2.imread(path,0)\n",
    "# out =  fingerprint_enhancer.enhance_Fingerprint(img_test)\n",
    "# FeaturesTerm, FeaturesBif = fingerprint_feature_extractor.extract_minutiae_features(out, showResult= False)\n",
    "# minutiae =  FeaturesTerm + FeaturesBif\n",
    "# location_minutiae = []\n",
    "# for j in range(len(minutiae)):\n",
    "#     location_minutiae.append((minutiae[j].locX, minutiae[j].locY))\n",
    "# feature = generate_tuple_profile(location_minutiae,5)"
   ]
  },
  {
   "cell_type": "code",
   "execution_count": 43,
   "metadata": {},
   "outputs": [],
   "source": [
    "# with open(\"D:\\PTIT\\ki2_nam4\\CSDL_da_phuong_tien\\Fingerprint\\projectname\\image_upload.txt\",'r') as f:\n",
    "#     path = f.read()\n",
    "# path"
   ]
  },
  {
   "cell_type": "code",
   "execution_count": 44,
   "metadata": {},
   "outputs": [],
   "source": [
    "# with open(\"D:\\PTIT\\ki2_nam4\\CSDL_da_phuong_tien\\Fingerprint\\projectname\\image_upload.txt\",'r') as f:\n",
    "#     name_image = f.read()\n",
    "\n",
    "path = \"data_unrename/101_2_DB4_B_2000.png\"\n",
    "img_test = cv2.imread(path,0)\n",
    "out =  fingerprint_enhancer.enhance_Fingerprint(img_test)\n",
    "FeaturesTerm, FeaturesBif = fingerprint_feature_extractor.extract_minutiae_features(out, showResult= False)\n",
    "\n",
    "minutiae =  FeaturesTerm + FeaturesBif\n",
    "location_minutiae = []\n",
    "for j in range(len(minutiae)):\n",
    "    location_minutiae.append((minutiae[j].locX, minutiae[j].locY))\n",
    "\n",
    "\n",
    "location_minutiae_bifurcation = []\n",
    "location_minutiae_termination = []\n",
    "\n",
    "for j in range(len(FeaturesTerm)):\n",
    "    location_minutiae_termination.append((FeaturesTerm[j].locX, FeaturesTerm[j].locY))\n",
    "\n",
    "for k in range(len(FeaturesBif)):\n",
    "    location_minutiae_bifurcation.append((FeaturesBif[k].locX, FeaturesBif[k].locY))\n",
    "\n",
    "feature_termination = generate_tuple_profile(location_minutiae,location_minutiae_termination,5)\n",
    "feature_bifurcation = generate_tuple_profile(location_minutiae,location_minutiae_bifurcation,5)\n",
    "feature = dict()\n",
    "feature['Termination']  = feature_termination\n",
    "feature['Bifurcation']  = feature_bifurcation"
   ]
  },
  {
   "cell_type": "code",
   "execution_count": null,
   "metadata": {},
   "outputs": [],
   "source": []
  },
  {
   "cell_type": "code",
   "execution_count": 45,
   "metadata": {},
   "outputs": [],
   "source": [
    "list_db = list(data.values())\n",
    "list_key = list(data.keys())"
   ]
  },
  {
   "cell_type": "code",
   "execution_count": 46,
   "metadata": {},
   "outputs": [
    {
     "name": "stdout",
     "output_type": "stream",
     "text": [
      "121212\n"
     ]
    },
    {
     "ename": "ValueError",
     "evalue": "list.remove(x): x not in list",
     "output_type": "error",
     "traceback": [
      "\u001b[1;31m---------------------------------------------------------------------------\u001b[0m",
      "\u001b[1;31mValueError\u001b[0m                                Traceback (most recent call last)",
      "Cell \u001b[1;32mIn[46], line 5\u001b[0m\n\u001b[0;32m      3\u001b[0m \u001b[39mfor\u001b[39;00m i \u001b[39min\u001b[39;00m \u001b[39mrange\u001b[39m(\u001b[39mlen\u001b[39m(list_db)):\n\u001b[0;32m      4\u001b[0m     \u001b[39mprint\u001b[39m(\u001b[39m121212\u001b[39m)\n\u001b[1;32m----> 5\u001b[0m     common_points_base, common_points_test \u001b[39m=\u001b[39m match(feature, list_db[i], th_range \u001b[39m=\u001b[39;49m \u001b[39m0.25\u001b[39;49m,th_angle\u001b[39m=\u001b[39;49m\u001b[39m5\u001b[39;49m)\n\u001b[0;32m      6\u001b[0m     number_common_points \u001b[39m=\u001b[39m \u001b[39mlen\u001b[39m(common_points_base)\n\u001b[0;32m      7\u001b[0m     list_common_points\u001b[39m.\u001b[39mappend(number_common_points)\n",
      "File \u001b[1;32me:\\Fingerprint\\projectname\\matching1.py:191\u001b[0m, in \u001b[0;36mmatch\u001b[1;34m(data_base, data_test, th_range, th_angle)\u001b[0m\n\u001b[0;32m    188\u001b[0m common_points_test_b \u001b[39m=\u001b[39m []\n\u001b[0;32m    190\u001b[0m \u001b[39mif\u001b[39;00m \u001b[39mlen\u001b[39m(termination_base) \u001b[39m>\u001b[39m\u001b[39m0\u001b[39m \u001b[39mand\u001b[39;00m \u001b[39mlen\u001b[39m(termination_test)\u001b[39m>\u001b[39m \u001b[39m0\u001b[39m:\n\u001b[1;32m--> 191\u001b[0m     common_points_base_t , common_points_test_t \u001b[39m=\u001b[39m match_tuples(termination_base, termination_test, th_range, th_angle)\n\u001b[0;32m    193\u001b[0m \u001b[39mif\u001b[39;00m \u001b[39mlen\u001b[39m(bifurcation_base)\u001b[39m>\u001b[39m \u001b[39m0\u001b[39m \u001b[39mand\u001b[39;00m \u001b[39mlen\u001b[39m(bifurcation_test) \u001b[39m>\u001b[39m \u001b[39m0\u001b[39m:\n\u001b[0;32m    194\u001b[0m     common_points_base_b, common_points_test_b \u001b[39m=\u001b[39m match_tuples(bifurcation_base, bifurcation_test, th_range, th_angle)\n",
      "File \u001b[1;32me:\\Fingerprint\\projectname\\matching1.py:170\u001b[0m, in \u001b[0;36mmatch_tuples\u001b[1;34m(tuple_base, tuple_test, th_range, th_angle)\u001b[0m\n\u001b[0;32m    168\u001b[0m     \u001b[39melse\u001b[39;00m:\n\u001b[0;32m    169\u001b[0m         \u001b[39mif\u001b[39;00m y \u001b[39mnot\u001b[39;00m \u001b[39min\u001b[39;00m list_point_done_row:\n\u001b[1;32m--> 170\u001b[0m             list_sorted\u001b[39m.\u001b[39;49mremove(matrix_score_all_point[y][j])\n\u001b[0;32m    171\u001b[0m list_point_done_row\u001b[39m.\u001b[39mappend(i)\n\u001b[0;32m    172\u001b[0m list_point_done_column\u001b[39m.\u001b[39mappend(j)\n",
      "\u001b[1;31mValueError\u001b[0m: list.remove(x): x not in list"
     ]
    }
   ],
   "source": [
    "list_score =[]\n",
    "list_common_points = []\n",
    "for i in range(len(list_db)):\n",
    "    print(121212)\n",
    "    common_points_base, common_points_test = match(feature, list_db[i], th_range = 0.25,th_angle=5)\n",
    "    number_common_points = len(common_points_base)\n",
    "    list_common_points.append(number_common_points)\n",
    "    # list_score.append(common_points)\n",
    "    a =len(list(feature.values())[1]) + len(list(feature.values())[0])\n",
    "    b  = len(list(list_db[i].values())[1]) + len(list(list_db[i].values())[0])\n",
    "    list_score.append(number_common_points/((a+b)/2))\n"
   ]
  },
  {
   "cell_type": "code",
   "execution_count": null,
   "metadata": {},
   "outputs": [
    {
     "data": {
      "text/plain": [
       "0"
      ]
     },
     "execution_count": 11,
     "metadata": {},
     "output_type": "execute_result"
    }
   ],
   "source": [
    "max(list_common_points)"
   ]
  },
  {
   "cell_type": "code",
   "execution_count": null,
   "metadata": {},
   "outputs": [
    {
     "data": {
      "text/plain": [
       "0.0"
      ]
     },
     "execution_count": 12,
     "metadata": {},
     "output_type": "execute_result"
    }
   ],
   "source": [
    "max(list_score)"
   ]
  },
  {
   "cell_type": "code",
   "execution_count": null,
   "metadata": {},
   "outputs": [
    {
     "data": {
      "text/plain": [
       "100"
      ]
     },
     "execution_count": 13,
     "metadata": {},
     "output_type": "execute_result"
    }
   ],
   "source": [
    "list_score.count(max(list_score))"
   ]
  },
  {
   "cell_type": "code",
   "execution_count": null,
   "metadata": {},
   "outputs": [],
   "source": [
    "file_result = list_key[list_score.index(max(list_score))]"
   ]
  },
  {
   "cell_type": "code",
   "execution_count": null,
   "metadata": {},
   "outputs": [
    {
     "name": "stdout",
     "output_type": "stream",
     "text": [
      "D:\\PTIT\\ki2_nam4\\CSDL_da_phuong_tien\\Fingerprint\\projectname\\media\\101_2_DB4_B_2000.tif\n",
      "101_1_DB4_B_2000.tif\n"
     ]
    }
   ],
   "source": [
    "print(path)\n",
    "print(file_result)"
   ]
  },
  {
   "cell_type": "code",
   "execution_count": null,
   "metadata": {},
   "outputs": [],
   "source": []
  }
 ],
 "metadata": {
  "kernelspec": {
   "display_name": "myenv",
   "language": "python",
   "name": "python3"
  },
  "language_info": {
   "codemirror_mode": {
    "name": "ipython",
    "version": 3
   },
   "file_extension": ".py",
   "mimetype": "text/x-python",
   "name": "python",
   "nbconvert_exporter": "python",
   "pygments_lexer": "ipython3",
   "version": "3.9.6"
  },
  "orig_nbformat": 4
 },
 "nbformat": 4,
 "nbformat_minor": 2
}
