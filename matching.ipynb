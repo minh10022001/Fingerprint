{
 "cells": [
  {
   "cell_type": "code",
   "execution_count": 1,
   "metadata": {},
   "outputs": [],
   "source": [
    "import cv2\n",
    "import fingerprint_enhancer\n",
    "import fingerprint_feature_extractor\n",
    "import numpy as np\n",
    "from projectname.matching1 import extract_angle, extract_tuple_profile, generate_tuple_profile, match_tuples, match\n",
    "import json"
   ]
  },
  {
   "cell_type": "code",
   "execution_count": 2,
   "metadata": {},
   "outputs": [],
   "source": [
    "f = open('projectname/data.json')"
   ]
  },
  {
   "cell_type": "code",
   "execution_count": 3,
   "metadata": {},
   "outputs": [],
   "source": [
    "data = json.load(f)"
   ]
  },
  {
   "cell_type": "code",
   "execution_count": 4,
   "metadata": {},
   "outputs": [
    {
     "data": {
      "text/plain": [
       "100"
      ]
     },
     "execution_count": 4,
     "metadata": {},
     "output_type": "execute_result"
    }
   ],
   "source": [
    "len(data)"
   ]
  },
  {
   "attachments": {},
   "cell_type": "markdown",
   "metadata": {},
   "source": []
  },
  {
   "cell_type": "code",
   "execution_count": 5,
   "metadata": {},
   "outputs": [],
   "source": [
    "# path = 'data_test_unrename/110_2_DB4_B_2002.tif'\n",
    "# img_test = cv2.imread(path,0)\n",
    "# out =  fingerprint_enhancer.enhance_Fingerprint(img_test)\n",
    "# FeaturesTerm, FeaturesBif = fingerprint_feature_extractor.extract_minutiae_features(out, showResult= False)\n",
    "# minutiae =  FeaturesTerm + FeaturesBif\n",
    "# location_minutiae = []\n",
    "# for j in range(len(minutiae)):\n",
    "#     location_minutiae.append((minutiae[j].locX, minutiae[j].locY))\n",
    "# feature = generate_tuple_profile(location_minutiae,5)"
   ]
  },
  {
   "cell_type": "code",
   "execution_count": 6,
   "metadata": {},
   "outputs": [],
   "source": [
    "# with open(\"D:\\PTIT\\ki2_nam4\\CSDL_da_phuong_tien\\Fingerprint\\projectname\\image_upload.txt\",'r') as f:\n",
    "#     path = f.read()\n",
    "# path"
   ]
  },
  {
   "cell_type": "code",
   "execution_count": 7,
   "metadata": {},
   "outputs": [],
   "source": [
    "# with open(\"D:\\PTIT\\ki2_nam4\\CSDL_da_phuong_tien\\Fingerprint\\projectname\\image_upload.txt\",'r') as f:\n",
    "#     name_image = f.read()\n",
    "\n",
    "path = \"test_image/103_7_DB4_B_2000.png\"\n",
    "img_test = cv2.imread(path,0)\n",
    "out =  fingerprint_enhancer.enhance_Fingerprint(img_test)\n",
    "FeaturesTerm, FeaturesBif = fingerprint_feature_extractor.extract_minutiae_features(out, showResult= False)\n",
    "\n",
    "minutiae =  FeaturesTerm + FeaturesBif\n",
    "location_minutiae = []\n",
    "for j in range(len(minutiae)):\n",
    "    location_minutiae.append((minutiae[j].locX, minutiae[j].locY))\n",
    "\n",
    "\n",
    "location_minutiae_bifurcation = []\n",
    "location_minutiae_termination = []\n",
    "\n",
    "for j in range(len(FeaturesTerm)):\n",
    "    location_minutiae_termination.append((FeaturesTerm[j].locX, FeaturesTerm[j].locY))\n",
    "\n",
    "for k in range(len(FeaturesBif)):\n",
    "    location_minutiae_bifurcation.append((FeaturesBif[k].locX, FeaturesBif[k].locY))\n",
    "\n",
    "feature_termination = generate_tuple_profile(location_minutiae,location_minutiae_termination,5)\n",
    "feature_bifurcation = generate_tuple_profile(location_minutiae,location_minutiae_bifurcation,5)\n",
    "feature = dict()\n",
    "feature['Termination']  = feature_termination\n",
    "feature['Bifurcation']  = feature_bifurcation"
   ]
  },
  {
   "cell_type": "code",
   "execution_count": null,
   "metadata": {},
   "outputs": [],
   "source": []
  },
  {
   "cell_type": "code",
   "execution_count": 8,
   "metadata": {},
   "outputs": [],
   "source": [
    "list_db = list(data.values())\n",
    "list_key = list(data.keys())"
   ]
  },
  {
   "cell_type": "code",
   "execution_count": 9,
   "metadata": {},
   "outputs": [],
   "source": [
    "list_score =[]\n",
    "list_common_points = []\n",
    "for i in range(len(list_db)):\n",
    "   \n",
    "    common_points_base, common_points_test = match(feature, list_db[i], th_range = 0.25,th_angle=5)\n",
    "    number_common_points = len(common_points_base)\n",
    "    list_common_points.append(number_common_points)\n",
    "    # list_score.append(common_points)\n",
    "    a =len(list(feature.values())[1]) + len(list(feature.values())[0])\n",
    "    b  = len(list(list_db[i].values())[1]) + len(list(list_db[i].values())[0])\n",
    "    list_score.append(number_common_points/((a+b)/2))\n"
   ]
  },
  {
   "cell_type": "code",
   "execution_count": 10,
   "metadata": {},
   "outputs": [
    {
     "data": {
      "text/plain": [
       "27"
      ]
     },
     "execution_count": 10,
     "metadata": {},
     "output_type": "execute_result"
    }
   ],
   "source": [
    "max(list_common_points)"
   ]
  },
  {
   "cell_type": "code",
   "execution_count": 11,
   "metadata": {},
   "outputs": [
    {
     "data": {
      "text/plain": [
       "0.6419753086419753"
      ]
     },
     "execution_count": 11,
     "metadata": {},
     "output_type": "execute_result"
    }
   ],
   "source": [
    "max(list_score)"
   ]
  },
  {
   "cell_type": "code",
   "execution_count": 12,
   "metadata": {},
   "outputs": [
    {
     "data": {
      "text/plain": [
       "1"
      ]
     },
     "execution_count": 12,
     "metadata": {},
     "output_type": "execute_result"
    }
   ],
   "source": [
    "list_score.count(max(list_score))"
   ]
  },
  {
   "cell_type": "code",
   "execution_count": 13,
   "metadata": {},
   "outputs": [],
   "source": [
    "file_result = list_key[list_score.index(max(list_score))]"
   ]
  },
  {
   "cell_type": "code",
   "execution_count": 14,
   "metadata": {},
   "outputs": [
    {
     "name": "stdout",
     "output_type": "stream",
     "text": [
      "test_image/103_7_DB4_B_2000.png\n",
      "103_2_DB4_B_2000.png\n"
     ]
    }
   ],
   "source": [
    "print(path)\n",
    "print(file_result)"
   ]
  },
  {
   "cell_type": "code",
   "execution_count": null,
   "metadata": {},
   "outputs": [],
   "source": []
  }
 ],
 "metadata": {
  "kernelspec": {
   "display_name": "myenv",
   "language": "python",
   "name": "python3"
  },
  "language_info": {
   "codemirror_mode": {
    "name": "ipython",
    "version": 3
   },
   "file_extension": ".py",
   "mimetype": "text/x-python",
   "name": "python",
   "nbconvert_exporter": "python",
   "pygments_lexer": "ipython3",
   "version": "3.9.6"
  },
  "orig_nbformat": 4
 },
 "nbformat": 4,
 "nbformat_minor": 2
}
