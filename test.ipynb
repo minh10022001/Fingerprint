{
 "cells": [
  {
   "cell_type": "code",
   "execution_count": 8,
   "metadata": {},
   "outputs": [],
   "source": [
    "import cv2\n",
    "import fingerprint_enhancer\n",
    "import fingerprint_feature_extractor\n",
    "import numpy as np\n",
    "from matching import extract_angle, extract_tuple_profile, generate_tuple_profile, match_tuples, similarity_two_img, euclidian_distance\n",
    "import json"
   ]
  },
  {
   "cell_type": "code",
   "execution_count": 9,
   "metadata": {},
   "outputs": [],
   "source": [
    "path = 'data_test_unrename/110_2_DB4_B_2002.tif'\n",
    "img_test = cv2.imread(path,0)\n",
    "out =  fingerprint_enhancer.enhance_Fingerprint(img_test)\n",
    "FeaturesTerm, FeaturesBif = fingerprint_feature_extractor.extract_minutiae_features(out, showResult= False)\n",
    "\n",
    "minutiae =  FeaturesTerm + FeaturesBif\n",
    "location_minutiae = []\n",
    "for j in range(len(minutiae)):\n",
    "    location_minutiae.append((minutiae[j].locX, minutiae[j].locY))\n",
    "\n",
    "\n",
    "location_minutiae_bifurcation = []\n",
    "location_minutiae_termination = []\n",
    "\n",
    "for j in range(len(FeaturesTerm)):\n",
    "    location_minutiae_termination.append((FeaturesTerm[j].locX, FeaturesTerm[j].locY))\n",
    "\n",
    "for k in range(len(FeaturesBif)):\n",
    "    location_minutiae_bifurcation.append((FeaturesBif[k].locX, FeaturesBif[k].locY))\n",
    "\n",
    "feature_termination = generate_tuple_profile(location_minutiae,location_minutiae_termination,5)\n",
    "feature_bifurcation = generate_tuple_profile(location_minutiae,location_minutiae_bifurcation,5)\n",
    "dict_tmp = dict()\n",
    "dict_tmp['Termination']  = feature_termination\n",
    "dict_tmp['Bifurcation']  = feature_bifurcation"
   ]
  },
  {
   "cell_type": "code",
   "execution_count": 31,
   "metadata": {},
   "outputs": [
    {
     "data": {
      "text/plain": [
       "{'(194, 51)': [[13.04, 15.79, 18.01, 18.87, 1.21, 1.38, 1.45, 1.14, 1.2, 1.05],\n",
       "  [85.6, 169.05, 88.41, 122.01, 105.35, 2.81, 36.4, 102.55, 68.95, 33.6]],\n",
       " '(194, 53)': [[13.0, 16.77, 18.01, 19.42, 1.29, 1.39, 1.49, 1.07, 1.16, 1.08],\n",
       "  [90.0, 10.3, 88.41, 55.49, 100.3, 1.59, 34.51, 98.71, 65.8, 32.92]],\n",
       " '(260, 57)': [[1.03, 1.39, 3.99, 4.0, 1.36, 3.88, 3.89, 2.86, 2.87, 1.0],\n",
       "  [68.35, 172.63, 151.51, 149.79, 104.28, 83.17, 81.44, 21.12, 22.84, 1.73]],\n",
       " '(275, 50)': [[1.14, 2.39, 4.05, 4.38, 2.1, 3.55, 3.84, 1.69, 1.83, 1.08],\n",
       "  [57.02, 4.29, 102.71, 119.54, 52.73, 159.73, 176.56, 107.0, 123.83, 16.83]]}"
      ]
     },
     "execution_count": 31,
     "metadata": {},
     "output_type": "execute_result"
    }
   ],
   "source": [
    "feature_bifurcation"
   ]
  },
  {
   "cell_type": "code",
   "execution_count": 13,
   "metadata": {},
   "outputs": [
    {
     "data": {
      "text/plain": [
       "27"
      ]
     },
     "execution_count": 13,
     "metadata": {},
     "output_type": "execute_result"
    }
   ],
   "source": [
    "len(location_minutiae)"
   ]
  },
  {
   "cell_type": "code",
   "execution_count": 32,
   "metadata": {},
   "outputs": [
    {
     "data": {
      "text/plain": [
       "{'(194, 51)': [[13.04, 15.79, 18.01, 18.87, 1.21, 1.38, 1.45, 1.14, 1.2, 1.05],\n",
       "  [85.6, 169.05, 88.41, 122.01, 105.35, 2.81, 36.4, 102.55, 68.95, 33.6]],\n",
       " '(194, 53)': [[13.0, 16.77, 18.01, 19.42, 1.29, 1.39, 1.49, 1.07, 1.16, 1.08],\n",
       "  [90.0, 10.3, 88.41, 55.49, 100.3, 1.59, 34.51, 98.71, 65.8, 32.92]],\n",
       " '(260, 57)': [[1.03, 1.39, 3.99, 4.0, 1.36, 3.88, 3.89, 2.86, 2.87, 1.0],\n",
       "  [68.35, 172.63, 151.51, 149.79, 104.28, 83.17, 81.44, 21.12, 22.84, 1.73]],\n",
       " '(275, 50)': [[1.14, 2.39, 4.05, 4.38, 2.1, 3.55, 3.84, 1.69, 1.83, 1.08],\n",
       "  [57.02, 4.29, 102.71, 119.54, 52.73, 159.73, 176.56, 107.0, 123.83, 16.83]]}"
      ]
     },
     "execution_count": 32,
     "metadata": {},
     "output_type": "execute_result"
    }
   ],
   "source": [
    "list(dict_tmp.values())[1]"
   ]
  },
  {
   "cell_type": "code",
   "execution_count": 12,
   "metadata": {},
   "outputs": [
    {
     "data": {
      "text/plain": [
       "dict_keys(['Termination', 'Bifurcation'])"
      ]
     },
     "execution_count": 12,
     "metadata": {},
     "output_type": "execute_result"
    }
   ],
   "source": [
    "dict_tmp."
   ]
  }
 ],
 "metadata": {
  "kernelspec": {
   "display_name": "myenv",
   "language": "python",
   "name": "python3"
  },
  "language_info": {
   "codemirror_mode": {
    "name": "ipython",
    "version": 3
   },
   "file_extension": ".py",
   "mimetype": "text/x-python",
   "name": "python",
   "nbconvert_exporter": "python",
   "pygments_lexer": "ipython3",
   "version": "3.9.6"
  },
  "orig_nbformat": 4
 },
 "nbformat": 4,
 "nbformat_minor": 2
}
