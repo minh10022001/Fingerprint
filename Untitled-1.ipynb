{
 "cells": [
  {
   "cell_type": "code",
   "execution_count": 1,
   "metadata": {},
   "outputs": [],
   "source": [
    "\n",
    "import os\n",
    "import cv2\n",
    "import numpy as np\n",
    "import fingerprint_enhancer\n",
    "import fingerprint_feature_extractor\n",
    "import numpy as np\n",
    "from projectname.matching import extract_angle, extract_tuple_profile, generate_tuple_profile, match_tuples, similarity_two_img, euclidian_distance"
   ]
  },
  {
   "cell_type": "code",
   "execution_count": 2,
   "metadata": {},
   "outputs": [],
   "source": [
    "\n",
    "# path = \"./DB4_B_2004\"\n",
    "# objects = os.listdir(path)\n",
    "# files_file = [f for f in objects if os.path.isfile(os.path.join(path, f))]\n",
    "# # files_file[0].replace('.tif','') +\"_DB4_B_2002.tif\"\n",
    "# for file in files_file:\n",
    "#     img = cv2.imread(\"./DB4_B_2004/\"+file, 0)\n",
    "#     for i in range(img.shape[0]):\n",
    "#         for j in range(img.shape[1]):\n",
    "#             if img[i][j] >=120:\n",
    "#                 img[i][j] =  min(img[i][j]+120, 255)\n",
    "#     file_name = file.replace('.tif','') +\"_DB4_B_2004.png\"\n",
    "#     cv2.imwrite(\"./DB4_B_2004_done1/\"+file_name, img)"
   ]
  },
  {
   "cell_type": "code",
   "execution_count": 3,
   "metadata": {},
   "outputs": [],
   "source": [
    "# Chuyển ảnh 2000 thàng dạng png chọn 60 cái trước : 1-> 6\n",
    "# path = \"./DB4_B_2000_done\"\n",
    "# objects = os.listdir(path)\n",
    "# files_file = [f for f in objects if os.path.isfile(os.path.join(path, f))] \n",
    "\n",
    "# for file in files_file:\n",
    "#     if file.__contains__('_7')== False and file.__contains__('_8')== False:\n",
    "#         img = cv2.imread(\"./DB4_B_2000_done/\"+file, 0)\n",
    "#         file_name = file.replace('.tif','') +\".png\"\n",
    "#         cv2.imwrite(\"./data_new_unrename/\"+file_name, img)\n",
    "    # else:\n",
    "    #     img = cv2.imread(\"./DB4_B_2004_done/\"+file, 0)\n",
    "    #     cv2.imwrite(\"./data_test_unrename/\"+file, img)\n"
   ]
  },
  {
   "cell_type": "code",
   "execution_count": 4,
   "metadata": {},
   "outputs": [],
   "source": [
    "# path = \"./data_unrename\"\n",
    "# objects = os.listdir(path)\n",
    "# files_file = [f for f in objects if os.path.isfile(os.path.join(path, f))]\n",
    "\n",
    "# count =1\n",
    "# for file in files_file:\n",
    "#     file_name = str(count)+\".png\"\n",
    "#     img = cv2.imread(\"./data_unrename/\"+file, 0)\n",
    "#     cv2.imwrite(\"./data_complete/\"+file_name, img)\n",
    "#     count+=1\n",
    "  "
   ]
  },
  {
   "cell_type": "code",
   "execution_count": 5,
   "metadata": {},
   "outputs": [],
   "source": [
    "# path = \"./DB4_B_2000_done\"\n",
    "# objects = os.listdir(path)\n",
    "# files_file = [f for f in objects if os.path.isfile(os.path.join(path, f))]\n",
    "\n",
    "\n",
    "# for file in files_file:\n",
    "#     file_name = file.replace('.tif','') +\".png\"\n",
    "#     img = cv2.imread(\"./DB4_B_2000_done/\"+file, 0)\n",
    "#     cv2.imwrite(\"./DB4_B_2000_done_png/\"+file_name, img)\n",
    "   "
   ]
  },
  {
   "cell_type": "code",
   "execution_count": 6,
   "metadata": {},
   "outputs": [],
   "source": [
    "# path = 'xuoi.png'\n",
    "# img_test = cv2.imread(path,0)\n",
    "# out =  fingerprint_enhancer.enhance_Fingerprint(img_test)\n",
    "# FeaturesTerm, FeaturesBif = fingerprint_feature_extractor.extract_minutiae_features(out, showResult= False)\n",
    "\n",
    "# minutiae =  FeaturesTerm + FeaturesBif\n",
    "# location_minutiae = []\n",
    "# for j in range(len(minutiae)):\n",
    "#     location_minutiae.append((minutiae[j].locX, minutiae[j].locY))\n",
    "\n",
    "\n",
    "# location_minutiae_bifurcation = []\n",
    "# location_minutiae_termination = []\n",
    "\n",
    "# for j in range(len(FeaturesTerm)):\n",
    "#     location_minutiae_termination.append((FeaturesTerm[j].locX, FeaturesTerm[j].locY))\n",
    "\n",
    "# for k in range(len(FeaturesBif)):\n",
    "#     location_minutiae_bifurcation.append((FeaturesBif[k].locX, FeaturesBif[k].locY))"
   ]
  },
  {
   "cell_type": "code",
   "execution_count": 7,
   "metadata": {},
   "outputs": [],
   "source": [
    "# location_minutiae_bifurcation"
   ]
  },
  {
   "cell_type": "code",
   "execution_count": 8,
   "metadata": {},
   "outputs": [],
   "source": [
    "# minutiae =  FeaturesTerm + FeaturesBif\n",
    "# location_minutiae = []\n",
    "# for j in range(len(minutiae)):\n",
    "#     location_minutiae.append((minutiae[j].locX, minutiae[j].locY))\n",
    "\n"
   ]
  },
  {
   "cell_type": "code",
   "execution_count": 9,
   "metadata": {},
   "outputs": [],
   "source": [
    "# distance_matrix = np.array([[euclidian_distance(i, j) for i in location_minutiae] for j in location_minutiae])"
   ]
  },
  {
   "cell_type": "code",
   "execution_count": 10,
   "metadata": {},
   "outputs": [],
   "source": [
    "# distance_matrix[0]"
   ]
  },
  {
   "cell_type": "code",
   "execution_count": 11,
   "metadata": {},
   "outputs": [],
   "source": [
    "# from itertools import combinations"
   ]
  },
  {
   "cell_type": "code",
   "execution_count": 12,
   "metadata": {},
   "outputs": [],
   "source": [
    "# closest_distances = sorted(distance_matrix[0])[1:5+1]"
   ]
  },
  {
   "cell_type": "code",
   "execution_count": 13,
   "metadata": {},
   "outputs": [],
   "source": [
    "# closest_distances"
   ]
  },
  {
   "cell_type": "code",
   "execution_count": 14,
   "metadata": {},
   "outputs": [],
   "source": [
    "# unique_pairs = list(combinations(closest_distances, 2))"
   ]
  },
  {
   "cell_type": "code",
   "execution_count": 15,
   "metadata": {},
   "outputs": [],
   "source": [
    "# unique_pairs"
   ]
  },
  {
   "cell_type": "code",
   "execution_count": 16,
   "metadata": {},
   "outputs": [],
   "source": [
    "# closest_indices = [list(distance_matrix[0]).index(d) for d in closest_distances]\n",
    "# closest_minutiae = [location_minutiae[i] for i in closest_indices]"
   ]
  },
  {
   "cell_type": "code",
   "execution_count": 17,
   "metadata": {},
   "outputs": [],
   "source": [
    "# m = location_minutiae[0]\n",
    "# print(m)"
   ]
  },
  {
   "cell_type": "code",
   "execution_count": 18,
   "metadata": {},
   "outputs": [],
   "source": [
    "# closest_minutiae"
   ]
  },
  {
   "cell_type": "code",
   "execution_count": 1,
   "metadata": {},
   "outputs": [],
   "source": [
    "a=[1,2,2,323,23,23,23,23,2,32]\n",
    "a.remove(2)"
   ]
  },
  {
   "cell_type": "code",
   "execution_count": 2,
   "metadata": {},
   "outputs": [
    {
     "data": {
      "text/plain": [
       "[1, 2, 323, 23, 23, 23, 23, 2, 32]"
      ]
     },
     "execution_count": 2,
     "metadata": {},
     "output_type": "execute_result"
    }
   ],
   "source": [
    "a"
   ]
  },
  {
   "cell_type": "code",
   "execution_count": null,
   "metadata": {},
   "outputs": [
    {
     "name": "stdout",
     "output_type": "stream",
     "text": [
      "[11, 9, 7, 5, 3, 2]\n"
     ]
    }
   ],
   "source": [
    "print(sorted(prime_numbers, reverse= True))"
   ]
  },
  {
   "cell_type": "code",
   "execution_count": null,
   "metadata": {},
   "outputs": [
    {
     "data": {
      "text/plain": [
       "False"
      ]
     },
     "execution_count": 11,
     "metadata": {},
     "output_type": "execute_result"
    }
   ],
   "source": [
    "1 not in  [1,2]"
   ]
  }
 ],
 "metadata": {
  "kernelspec": {
   "display_name": "myenv",
   "language": "python",
   "name": "python3"
  },
  "language_info": {
   "codemirror_mode": {
    "name": "ipython",
    "version": 3
   },
   "file_extension": ".py",
   "mimetype": "text/x-python",
   "name": "python",
   "nbconvert_exporter": "python",
   "pygments_lexer": "ipython3",
   "version": "3.9.6"
  },
  "orig_nbformat": 4
 },
 "nbformat": 4,
 "nbformat_minor": 2
}
