{
 "cells": [
  {
   "cell_type": "code",
   "execution_count": 403,
   "metadata": {},
   "outputs": [],
   "source": [
    "# import os\n",
    "# import cv2\n",
    "# path = \"./DB4_B_2000\"\n",
    "# objects = os.listdir(path)\n",
    "# files_file = [f for f in objects if os.path.isfile(os.path.join(path, f))]"
   ]
  },
  {
   "cell_type": "code",
   "execution_count": 404,
   "metadata": {},
   "outputs": [],
   "source": [
    "# for file in files_file:\n",
    "#     img = cv2.imread(\"./DB4_B_2000/\"+file, 0)\n",
    "#     img_resize = cv2.resize(img ,(288,384))\n",
    "#     cv2.imwrite(\"./DB4_B_2000_resize/\"+file, img_resize)"
   ]
  },
  {
   "cell_type": "code",
   "execution_count": 405,
   "metadata": {},
   "outputs": [],
   "source": [
    "# import os\n",
    "# import cv2\n",
    "# path = \"./DB4_B_2000_resize\"\n",
    "# objects = os.listdir(path)\n",
    "# files_file = [f for f in objects if os.path.isfile(os.path.join(path, f))]"
   ]
  },
  {
   "cell_type": "code",
   "execution_count": 406,
   "metadata": {},
   "outputs": [],
   "source": [
    "# list_shape_2000 = []\n",
    "# for file in files_file:\n",
    "#     img = cv2.imread(\"./DB4_B_2000_resize/\"+file, 0)\n",
    "#     list_shape_2000.append(img.shape)"
   ]
  },
  {
   "cell_type": "code",
   "execution_count": 407,
   "metadata": {},
   "outputs": [],
   "source": [
    "# set(list_shape_2000)"
   ]
  },
  {
   "cell_type": "code",
   "execution_count": 408,
   "metadata": {},
   "outputs": [],
   "source": [
    "# path = \"./DB4_B_2004\"\n",
    "# objects = os.listdir(path)\n",
    "# files_file = [f for f in objects if os.path.isfile(os.path.join(path, f))]"
   ]
  },
  {
   "cell_type": "code",
   "execution_count": 409,
   "metadata": {},
   "outputs": [],
   "source": [
    "# list_shape_2004 = []\n",
    "# for file in files_file:\n",
    "#     img = cv2.imread(\"./DB4_B_2004/\"+file, 0)\n",
    "#     list_shape_2004.append(img.shape)"
   ]
  },
  {
   "cell_type": "code",
   "execution_count": 410,
   "metadata": {},
   "outputs": [],
   "source": [
    "# set(list_shape_2004)"
   ]
  },
  {
   "cell_type": "code",
   "execution_count": 411,
   "metadata": {},
   "outputs": [],
   "source": [
    "import cv2\n",
    "import fingerprint_enhancer\n",
    "import fingerprint_feature_extractor\n",
    "import numpy as np\n",
    "from projectname.matching1 import extract_angle, extract_tuple_profile, generate_tuple_profile, match_tuples, match\n",
    "import json"
   ]
  },
  {
   "cell_type": "code",
   "execution_count": 412,
   "metadata": {},
   "outputs": [],
   "source": [
    "img1 = cv2.imread('./data_unrename/101_1_DB4_B_2000.png',0)\n",
    "img2 = cv2.imread('./data_unrename/101_2_DB4_B_2000.png',0)"
   ]
  },
  {
   "cell_type": "code",
   "execution_count": 413,
   "metadata": {},
   "outputs": [],
   "source": [
    "out1 = fingerprint_enhancer.enhance_Fingerprint(img1)\n",
    "out2 = fingerprint_enhancer.enhance_Fingerprint(img2)"
   ]
  },
  {
   "cell_type": "code",
   "execution_count": 414,
   "metadata": {},
   "outputs": [],
   "source": [
    "\n",
    "FeaturesTerm1, FeaturesBif1 = fingerprint_feature_extractor.extract_minutiae_features(out1, showResult= False)\n",
    "FeaturesTerm2, FeaturesBif2 = fingerprint_feature_extractor.extract_minutiae_features(out2, showResult= False)"
   ]
  },
  {
   "cell_type": "code",
   "execution_count": 415,
   "metadata": {},
   "outputs": [],
   "source": [
    "len1 = FeaturesTerm1 + FeaturesBif1\n",
    "len2 = FeaturesTerm2 + FeaturesBif2"
   ]
  },
  {
   "cell_type": "code",
   "execution_count": 416,
   "metadata": {},
   "outputs": [],
   "source": [
    "location_minutiae1 = []\n",
    "for i in range(len(len1)):\n",
    "    location_minutiae1.append((len1[i].locX, len1[i].locY))\n",
    "\n",
    "location_minutiae_bifurcation1 = []\n",
    "location_minutiae_termination1 = []\n",
    "\n",
    "for j in range(len(FeaturesTerm1)):\n",
    "    location_minutiae_termination1.append((FeaturesTerm1[j].locX, FeaturesTerm1[j].locY))\n",
    "\n",
    "for k in range(len(FeaturesBif1)):\n",
    "    location_minutiae_bifurcation1.append((FeaturesBif1[k].locX, FeaturesBif1[k].locY))"
   ]
  },
  {
   "cell_type": "code",
   "execution_count": 417,
   "metadata": {},
   "outputs": [],
   "source": [
    "location_minutiae2 = []\n",
    "for i in range(len(len2)):\n",
    "    location_minutiae2.append((len2[i].locX, len2[i].locY))\n",
    "\n",
    "location_minutiae_bifurcation2 = []\n",
    "location_minutiae_termination2 = []\n",
    "\n",
    "for j in range(len(FeaturesTerm2)):\n",
    "    location_minutiae_termination2.append((FeaturesTerm2[j].locX, FeaturesTerm2[j].locY))\n",
    "\n",
    "for k in range(len(FeaturesBif2)):\n",
    "    location_minutiae_bifurcation2.append((FeaturesBif2[k].locX, FeaturesBif2[k].locY))"
   ]
  },
  {
   "cell_type": "code",
   "execution_count": 418,
   "metadata": {},
   "outputs": [],
   "source": [
    "feature_termination1 = generate_tuple_profile(location_minutiae1,location_minutiae_termination1,5)\n",
    "feature_bifurcation1 = generate_tuple_profile(location_minutiae1,location_minutiae_bifurcation1,5)\n",
    "\n",
    "feature1 = dict()\n",
    "feature1['Termination']  = feature_termination1\n",
    "feature1['Bifurcation']  = feature_bifurcation1"
   ]
  },
  {
   "cell_type": "code",
   "execution_count": 419,
   "metadata": {},
   "outputs": [],
   "source": [
    "feature_termination2 = generate_tuple_profile(location_minutiae2,location_minutiae_termination2,5)\n",
    "feature_bifurcation2 = generate_tuple_profile(location_minutiae2,location_minutiae_bifurcation2,5)\n",
    "\n",
    "feature2 = dict()\n",
    "feature2['Termination']  = feature_termination2\n",
    "feature2['Bifurcation']  = feature_bifurcation2"
   ]
  },
  {
   "cell_type": "code",
   "execution_count": 420,
   "metadata": {},
   "outputs": [],
   "source": [
    "termination_base = list(feature1.values())[0]\n",
    "bifurcation_base = list(feature1.values())[1]\n",
    "termination_test = list(feature2.values())[0]\n",
    "bifurcation_test = list(feature2.values())[1]\n"
   ]
  },
  {
   "cell_type": "code",
   "execution_count": 421,
   "metadata": {},
   "outputs": [],
   "source": [
    "def match_two_point(ratios_base, angles_base, ratios_test, angles_test, th_range, th_angle):\n",
    "    count = 0\n",
    "    list_done = []\n",
    "    for i in range(len(ratios_base)):\n",
    "        for j in range(len(ratios_base)):\n",
    "            check = True\n",
    "            if j not in list_done:\n",
    "                if (((ratios_test[i] >= ratios_base[j] - th_range)  * (ratios_test[i] <= ratios_base[j] + th_range)) * ((angles_test[i] >= angles_base[j] - th_angle)  * (angles_test[i] <= angles_base[j] + th_angle))) == True:\n",
    "                    count +=1\n",
    "                    list_done.append(j)\n",
    "                    check = False\n",
    "                    break\n",
    "            if check==False:\n",
    "                break\n",
    "    return count"
   ]
  },
  {
   "cell_type": "code",
   "execution_count": 422,
   "metadata": {},
   "outputs": [],
   "source": [
    "ratios_test = np.array([ratios for c, [ratios, _] in termination_test.items()])\n",
    "angles_test = np.array([angles for c, [_, angles] in termination_test.items()])\n",
    "point_test = np.array([c for c, [_, angles] in termination_test.items()])\n",
    "num_point_test = len(point_test)\n",
    "\n",
    "ratios_base = np.array([ratios for c, [ratios, _] in termination_base.items()])\n",
    "angles_base = np.array([angles for c, [_, angles] in termination_base.items()])\n",
    "point_base = np.array([angles for c, [_, angles] in termination_base.items()])\n",
    "num_point_base = len(point_base)"
   ]
  },
  {
   "cell_type": "code",
   "execution_count": 423,
   "metadata": {},
   "outputs": [
    {
     "name": "stdout",
     "output_type": "stream",
     "text": [
      "29 25\n"
     ]
    }
   ],
   "source": [
    "print(len(ratios_base), len(ratios_test))"
   ]
  },
  {
   "cell_type": "code",
   "execution_count": 424,
   "metadata": {},
   "outputs": [],
   "source": [
    "th_range = 0.25\n",
    "th_angle = 5"
   ]
  },
  {
   "cell_type": "code",
   "execution_count": 425,
   "metadata": {},
   "outputs": [],
   "source": [
    "common_points_base = []\n",
    "common_points_test = []\n",
    "\n",
    "matrix_score_all_point= []\n",
    "list_score_all_point= []\n",
    "\n",
    "for i in range(num_point_test):\n",
    "    list_score = []\n",
    "    for j in range(num_point_base):\n",
    "     \n",
    "        # list_score_all_point.append(match_two_point(ratios_base[j],angles_base[j],ratios_test[i],angles_test[i],th_range, th_angle ))\n",
    "        list_score.append(match_two_point(ratios_base[j],angles_base[j],ratios_test[i],angles_test[i],th_range, th_angle ))\n",
    "    matrix_score_all_point.append(list_score)\n",
    "index = min(num_point_base,num_point_test)\n",
    "list_score_all_point =  np.array(matrix_score_all_point).reshape(-1)\n",
    "list_sorted = sorted(list_score_all_point, reverse= True)"
   ]
  },
  {
   "cell_type": "code",
   "execution_count": 426,
   "metadata": {},
   "outputs": [
    {
     "name": "stdout",
     "output_type": "stream",
     "text": [
      "[[4, 2, 2, 3, 3, 0, 2, 4, 1, 2, 4, 4, 1, 1, 1, 3, 1, 2, 2, 0, 1, 6, 2, 1, 2, 1, 2, 2, 4], [2, 0, 2, 3, 2, 1, 2, 1, 0, 2, 4, 1, 0, 0, 0, 1, 0, 3, 1, 3, 2, 2, 1, 1, 5, 2, 1, 1, 2], [2, 2, 2, 0, 3, 0, 2, 5, 2, 1, 2, 1, 1, 1, 0, 3, 1, 3, 5, 1, 3, 4, 4, 3, 2, 1, 5, 3, 3], [3, 3, 3, 2, 3, 2, 3, 5, 1, 1, 2, 2, 3, 2, 3, 4, 2, 3, 5, 1, 4, 3, 6, 3, 2, 1, 2, 3, 3], [2, 3, 3, 1, 2, 1, 1, 3, 1, 0, 1, 3, 3, 4, 1, 1, 3, 1, 2, 1, 1, 2, 0, 2, 2, 1, 1, 2, 0], [3, 3, 3, 1, 1, 0, 3, 0, 0, 2, 2, 3, 2, 4, 1, 2, 4, 0, 0, 1, 2, 1, 0, 1, 5, 2, 2, 2, 1], [2, 3, 1, 3, 1, 1, 0, 0, 1, 4, 2, 3, 3, 5, 1, 2, 2, 2, 1, 1, 1, 1, 0, 0, 2, 4, 1, 1, 0], [4, 4, 1, 1, 2, 1, 1, 3, 1, 0, 2, 2, 2, 3, 0, 2, 3, 2, 3, 0, 1, 4, 2, 4, 3, 1, 4, 2, 1], [3, 1, 2, 1, 3, 1, 4, 1, 0, 2, 2, 1, 2, 2, 1, 1, 3, 0, 3, 1, 3, 2, 1, 3, 3, 0, 1, 3, 2], [2, 3, 0, 3, 0, 0, 1, 1, 0, 1, 2, 1, 1, 1, 1, 2, 2, 2, 1, 2, 1, 1, 2, 1, 3, 1, 2, 4, 2], [3, 3, 2, 4, 2, 1, 2, 1, 1, 1, 4, 0, 1, 1, 1, 4, 2, 1, 2, 3, 4, 3, 2, 4, 4, 1, 3, 2, 6], [0, 4, 2, 1, 1, 3, 0, 2, 2, 1, 1, 5, 3, 3, 1, 0, 3, 3, 4, 1, 1, 2, 3, 1, 1, 5, 3, 1, 1], [1, 2, 2, 2, 3, 2, 1, 2, 1, 3, 1, 2, 2, 1, 1, 1, 3, 2, 2, 1, 3, 1, 3, 1, 1, 1, 0, 3, 3], [2, 0, 3, 1, 1, 2, 3, 3, 3, 4, 3, 4, 1, 3, 0, 0, 1, 3, 1, 2, 1, 4, 2, 1, 2, 2, 3, 3, 2], [2, 2, 2, 2, 2, 5, 3, 2, 3, 3, 2, 5, 3, 2, 5, 5, 2, 3, 1, 4, 2, 3, 3, 2, 2, 1, 4, 2, 3], [3, 3, 2, 3, 2, 2, 2, 3, 3, 3, 4, 3, 3, 5, 3, 3, 1, 2, 2, 3, 0, 1, 3, 1, 2, 2, 2, 5, 1], [1, 1, 3, 2, 1, 4, 3, 3, 3, 5, 3, 4, 4, 4, 3, 4, 3, 3, 5, 3, 2, 3, 3, 1, 2, 2, 3, 2, 2], [3, 3, 2, 1, 2, 4, 1, 3, 2, 1, 5, 3, 3, 1, 2, 2, 2, 1, 3, 3, 0, 5, 3, 1, 0, 3, 2, 2, 3], [2, 2, 6, 2, 2, 6, 3, 2, 4, 4, 3, 3, 2, 3, 3, 2, 3, 2, 5, 3, 2, 0, 2, 3, 2, 2, 3, 2, 1], [2, 2, 2, 1, 2, 2, 3, 4, 1, 3, 4, 3, 2, 1, 2, 4, 3, 2, 3, 4, 2, 3, 2, 1, 3, 2, 3, 2, 2], [3, 1, 4, 2, 6, 3, 4, 3, 3, 3, 2, 2, 4, 3, 5, 6, 3, 3, 2, 3, 2, 1, 6, 1, 2, 0, 2, 1, 3], [2, 3, 2, 4, 2, 3, 2, 1, 3, 2, 2, 3, 2, 3, 3, 5, 1, 2, 3, 5, 2, 3, 2, 3, 3, 1, 3, 2, 2], [5, 3, 5, 2, 4, 2, 4, 1, 2, 4, 3, 2, 2, 4, 5, 6, 2, 4, 3, 2, 2, 2, 3, 1, 3, 3, 2, 3, 4], [3, 3, 6, 1, 3, 3, 5, 1, 4, 5, 3, 1, 2, 4, 3, 4, 3, 2, 3, 4, 3, 3, 3, 1, 3, 2, 2, 4, 2], [1, 4, 3, 3, 2, 4, 3, 2, 3, 3, 4, 2, 2, 1, 7, 5, 2, 3, 1, 4, 2, 1, 4, 2, 2, 2, 1, 1, 4]]\n"
     ]
    }
   ],
   "source": [
    "print(matrix_score_all_point)"
   ]
  },
  {
   "cell_type": "code",
   "execution_count": 427,
   "metadata": {},
   "outputs": [
    {
     "data": {
      "text/plain": [
       "725"
      ]
     },
     "execution_count": 427,
     "metadata": {},
     "output_type": "execute_result"
    }
   ],
   "source": [
    "len(list_sorted)"
   ]
  },
  {
   "cell_type": "code",
   "execution_count": 428,
   "metadata": {},
   "outputs": [],
   "source": [
    "common_points_base = []\n",
    "common_points_test = []"
   ]
  },
  {
   "cell_type": "code",
   "execution_count": 429,
   "metadata": {},
   "outputs": [
    {
     "name": "stdout",
     "output_type": "stream",
     "text": [
      "696\n",
      "644\n",
      "594\n",
      "546\n",
      "500\n",
      "456\n",
      "414\n",
      "374\n",
      "336\n",
      "300\n",
      "266\n",
      "234\n",
      "204\n",
      "176\n",
      "150\n",
      "126\n",
      "104\n",
      "84\n",
      "66\n",
      "50\n",
      "36\n",
      "24\n",
      "14\n",
      "6\n",
      "0\n"
     ]
    }
   ],
   "source": [
    "list_point_done_row = []\n",
    "list_point_done_column = []\n",
    "\n",
    "T = len(ratios_test[0])\n",
    "\n",
    "for k in range(index):\n",
    "    \n",
    "    for i in range(num_point_test):\n",
    "        check1= True\n",
    "        if i not in list_point_done_row:\n",
    "            for j in range(num_point_base):\n",
    "                check2 = True\n",
    "                if j not in list_point_done_column and i not in list_point_done_row:\n",
    "                    if matrix_score_all_point[i][j] ==list_sorted[0]:\n",
    "                        \n",
    "\n",
    "                        num_column = num_point_base\n",
    "                        num_row = num_point_test\n",
    "\n",
    "                        for x in range(num_column):\n",
    "                            if x not in list_point_done_column:\n",
    "                                list_sorted.remove(matrix_score_all_point[i][x])\n",
    "                        print(len(list_sorted))\n",
    "                        for y in range(num_row):\n",
    "                            if y == i:\n",
    "                                pass\n",
    "                            else:\n",
    "                                if y not in list_point_done_row:\n",
    "                                    # print(matrix_score_all_point[y][j])\n",
    "                                    list_sorted.remove(matrix_score_all_point[y][j])\n",
    "                            \n",
    "                                # print(list_sorted)\n",
    "                               \n",
    "                        list_point_done_row.append(i)\n",
    "                        list_point_done_column.append(j)\n",
    "                        if matrix_score_all_point[i][j] >= (T//2):\n",
    "                            common_points_base.append(point_base[j])\n",
    "                            common_points_test.append(point_test[i])\n",
    "                        check1 =False\n",
    "                        check2 = False\n",
    "                if check2 == False:\n",
    "                    break\n",
    "        if check1 == False:\n",
    "            break\n",
    "                "
   ]
  },
  {
   "cell_type": "code",
   "execution_count": 430,
   "metadata": {},
   "outputs": [
    {
     "data": {
      "text/plain": [
       "[24,\n",
       " 0,\n",
       " 3,\n",
       " 10,\n",
       " 18,\n",
       " 20,\n",
       " 22,\n",
       " 1,\n",
       " 2,\n",
       " 6,\n",
       " 11,\n",
       " 14,\n",
       " 15,\n",
       " 16,\n",
       " 17,\n",
       " 21,\n",
       " 23,\n",
       " 5,\n",
       " 7,\n",
       " 4,\n",
       " 8,\n",
       " 9,\n",
       " 12,\n",
       " 13,\n",
       " 19]"
      ]
     },
     "execution_count": 430,
     "metadata": {},
     "output_type": "execute_result"
    }
   ],
   "source": [
    "list_point_done_row"
   ]
  },
  {
   "cell_type": "code",
   "execution_count": 431,
   "metadata": {},
   "outputs": [
    {
     "data": {
      "text/plain": [
       "[14,\n",
       " 21,\n",
       " 22,\n",
       " 28,\n",
       " 2,\n",
       " 4,\n",
       " 15,\n",
       " 24,\n",
       " 7,\n",
       " 13,\n",
       " 11,\n",
       " 5,\n",
       " 27,\n",
       " 9,\n",
       " 10,\n",
       " 19,\n",
       " 6,\n",
       " 16,\n",
       " 0,\n",
       " 1,\n",
       " 18,\n",
       " 3,\n",
       " 20,\n",
       " 8,\n",
       " 26]"
      ]
     },
     "execution_count": 431,
     "metadata": {},
     "output_type": "execute_result"
    }
   ],
   "source": [
    "list_point_done_column"
   ]
  },
  {
   "cell_type": "code",
   "execution_count": 432,
   "metadata": {},
   "outputs": [],
   "source": [
    "# a,b = match(feature1,feature2,0.25,5)"
   ]
  },
  {
   "cell_type": "code",
   "execution_count": null,
   "metadata": {},
   "outputs": [],
   "source": []
  }
 ],
 "metadata": {
  "kernelspec": {
   "display_name": "myenv",
   "language": "python",
   "name": "python3"
  },
  "language_info": {
   "codemirror_mode": {
    "name": "ipython",
    "version": 3
   },
   "file_extension": ".py",
   "mimetype": "text/x-python",
   "name": "python",
   "nbconvert_exporter": "python",
   "pygments_lexer": "ipython3",
   "version": "3.9.6"
  },
  "orig_nbformat": 4
 },
 "nbformat": 4,
 "nbformat_minor": 2
}
