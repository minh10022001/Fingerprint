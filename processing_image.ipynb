{
 "cells": [
  {
   "cell_type": "code",
   "execution_count": 58,
   "metadata": {},
   "outputs": [],
   "source": [
    "import os\n",
    "import cv2\n",
    "# path = \"./DB4_B_2000_resize\"\n",
    "# objects = os.listdir(path)\n",
    "# files_file = [f for f in objects if os.path.isfile(os.path.join(path, f))]"
   ]
  },
  {
   "cell_type": "code",
   "execution_count": 59,
   "metadata": {},
   "outputs": [],
   "source": [
    "# files_file[0].replace('.tif','') +\"_DB4_B_2000.tif\""
   ]
  },
  {
   "cell_type": "code",
   "execution_count": 60,
   "metadata": {},
   "outputs": [],
   "source": [
    "# for file in files_file:\n",
    "#     img = cv2.imread(\"./DB4_B_2000_resize/\"+file, 0)\n",
    "#     file_name = file.replace('.tif','') +\"_DB4_B_2000.tif\"\n",
    "#     cv2.imwrite(\"./DB4_B_2000_done/\"+file_name, img)"
   ]
  },
  {
   "attachments": {},
   "cell_type": "markdown",
   "metadata": {},
   "source": [
    "trộn data"
   ]
  },
  {
   "cell_type": "code",
   "execution_count": 61,
   "metadata": {},
   "outputs": [],
   "source": [
    "#path = \"./DB4_B_2004_done\"\n",
    "# objects = os.listdir(path)\n",
    "# files_file = [f for f in objects if os.path.isfile(os.path.join(path, f))] "
   ]
  },
  {
   "cell_type": "code",
   "execution_count": 62,
   "metadata": {},
   "outputs": [],
   "source": [
    "# for file in files_file:\n",
    "#     if file.__contains__('_1')  or file.__contains__('_6') or file.__contains__('_8'):\n",
    "#         img = cv2.imread(\"./DB4_B_2004_done/\"+file, 0)\n",
    "#         cv2.imwrite(\"./data_unrename/\"+file, img)\n",
    "#     else:\n",
    "#         img = cv2.imread(\"./DB4_B_2004_done/\"+file, 0)\n",
    "#         cv2.imwrite(\"./data_test_unrename/\"+file, img)\n"
   ]
  },
  {
   "cell_type": "code",
   "execution_count": 63,
   "metadata": {},
   "outputs": [],
   "source": [
    "# for file in files_file:\n",
    "#     if file.__contains__('_5') :\n",
    "#         img = cv2.imread(\"./DB4_B_2004_done/\"+file, 0)\n",
    "#         cv2.imwrite(\"./data_unrename/\"+file, img)\n",
    "  "
   ]
  },
  {
   "attachments": {},
   "cell_type": "markdown",
   "metadata": {},
   "source": [
    "rename data"
   ]
  },
  {
   "cell_type": "code",
   "execution_count": 64,
   "metadata": {},
   "outputs": [],
   "source": [
    "# path = \"./data_unrename\"\n",
    "# objects = os.listdir(path)\n",
    "# files_file = [f for f in objects if os.path.isfile(os.path.join(path, f))]"
   ]
  },
  {
   "cell_type": "code",
   "execution_count": 65,
   "metadata": {},
   "outputs": [
    {
     "data": {
      "text/plain": [
       "100"
      ]
     },
     "execution_count": 65,
     "metadata": {},
     "output_type": "execute_result"
    }
   ],
   "source": [
    "# len(files_file)"
   ]
  },
  {
   "cell_type": "code",
   "execution_count": 66,
   "metadata": {},
   "outputs": [],
   "source": [
    "# count =1\n",
    "# for file in files_file:\n",
    "#     file_name = str(count)+\".tif\"\n",
    "#     img = cv2.imread(\"./data_unrename/\"+file, 0)\n",
    "#     cv2.imwrite(\"./data_rename/\"+file_name, img)\n",
    "#     count+=1\n",
    "  "
   ]
  },
  {
   "cell_type": "code",
   "execution_count": 67,
   "metadata": {},
   "outputs": [],
   "source": [
    "path = \"./data_rename\"\n",
    "objects = os.listdir(path)\n",
    "files_file = [f for f in objects if os.path.isfile(os.path.join(path, f))]"
   ]
  },
  {
   "cell_type": "code",
   "execution_count": 68,
   "metadata": {},
   "outputs": [],
   "source": [
    "list_shape =[]\n",
    "for file in files_file:\n",
    "    img = cv2.imread(\"./data_rename/\"+file, 0)\n",
    "    list_shape.append(img.shape)"
   ]
  },
  {
   "cell_type": "code",
   "execution_count": 69,
   "metadata": {},
   "outputs": [
    {
     "data": {
      "text/plain": [
       "{(384, 288)}"
      ]
     },
     "execution_count": 69,
     "metadata": {},
     "output_type": "execute_result"
    }
   ],
   "source": [
    "set(list_shape)"
   ]
  }
 ],
 "metadata": {
  "kernelspec": {
   "display_name": "myenv",
   "language": "python",
   "name": "python3"
  },
  "language_info": {
   "codemirror_mode": {
    "name": "ipython",
    "version": 3
   },
   "file_extension": ".py",
   "mimetype": "text/x-python",
   "name": "python",
   "nbconvert_exporter": "python",
   "pygments_lexer": "ipython3",
   "version": "3.9.6"
  },
  "orig_nbformat": 4
 },
 "nbformat": 4,
 "nbformat_minor": 2
}
